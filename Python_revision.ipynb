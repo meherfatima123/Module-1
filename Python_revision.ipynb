{
 "cells": [
  {
   "cell_type": "markdown",
   "id": "ad5a7c2a",
   "metadata": {
    "id": "J1FSwAstIAxy"
   },
   "source": [
    "# Python Programming Introduction"
   ]
  },
  {
   "cell_type": "markdown",
   "id": "051f637d",
   "metadata": {
    "id": "BRqxIHIuIAx5"
   },
   "source": [
    "<b>Father of Python</b> - GUIDO VAN ROSSUM"
   ]
  },
  {
   "cell_type": "markdown",
   "id": "55420a43",
   "metadata": {
    "id": "How_fjfPIAx6"
   },
   "source": [
    "# Where can we use Python?\n",
    "1. Desktop Applications (Calculator, Notepad, etc..)\n",
    "2. Web Applications (Youtube, Dropbox, Google, Instagram, Quora, Spotify)\n",
    "3. Scientific and Numeric Computing (Scipy, Numpy)\n",
    "4. Database Applications (Library Management Systems, Pharmaceutical)\n",
    "5. Network Applications (Network Sniffer, Network Parameter extraction, Routing Algo's like OSPF)\n",
    "6. Developing Games (Battlefield, Sims 4, PUBG)\n",
    "7. Data Science (Pandas, Matplotlib, Seaborn, etc)\n",
    "8. Machine Learning (scikit)\n",
    "9. AI (AIMA - AI: A Modern Approach)\n",
    "10. IOT (Raspberry pi, Phillips(works great with low level code in c++))\n"
   ]
  },
  {
   "cell_type": "markdown",
   "id": "712cf180",
   "metadata": {
    "id": "_K-FMh15IAx7"
   },
   "source": [
    "# Features of Python:\n",
    "1. Simple and easy to learn\n",
    "2. Free and open source.\n",
    "3. General Purpose and high level programming language.\n",
    "4. Platform independent.\n",
    "5. Case Sensitive.\n",
    "6. Interpreted Language.\n",
    "7. Dynamically typed.\n",
    "8. Rich Library.\n",
    "9. We can write concise code using python."
   ]
  },
  {
   "cell_type": "markdown",
   "id": "83419d56",
   "metadata": {},
   "source": [
    "# Python"
   ]
  },
  {
   "cell_type": "markdown",
   "id": "cb059a17",
   "metadata": {},
   "source": [
    "Python is a popular programming language. It was created by<b> Guido van Rossum</b>, and released in <b>1991</b>."
   ]
  },
  {
   "cell_type": "code",
   "execution_count": 1,
   "id": "a45c88df",
   "metadata": {},
   "outputs": [
    {
     "name": "stdout",
     "output_type": "stream",
     "text": [
      "something\n",
      "something\n",
      "i'm ur Mentor\n",
      "I am ur \"Mentor\"\n",
      "I'm ur \"Mentor\"\n",
      "I'm ur \"Mentor\"\n"
     ]
    }
   ],
   "source": [
    "#In printing sme text usage of ' \" ''' \\(escape special characters)\n",
    "print('something')\n",
    "print(\"something\")\n",
    "print(\"i'm ur Mentor\")\n",
    "print('I am ur \"Mentor\"')\n",
    "print('I\\'m ur \\\"Mentor\\\"')\n",
    "print('''I'm ur \"Mentor\"''')\n"
   ]
  },
  {
   "cell_type": "code",
   "execution_count": 2,
   "id": "975c092a",
   "metadata": {},
   "outputs": [
    {
     "name": "stdout",
     "output_type": "stream",
     "text": [
      "10+20+30 digits\n"
     ]
    }
   ],
   "source": [
    "# end sep\n",
    "a=10\n",
    "b=20\n",
    "c=30\n",
    "print(a,b,c,sep='+',end=' ')\n",
    "print('digits')"
   ]
  },
  {
   "cell_type": "markdown",
   "id": "3579749a",
   "metadata": {},
   "source": [
    "## Python variables\n",
    "- Variables are containers for storing data values.\n",
    "- Python has no command for declaring a variable.\n",
    "- A variable is created the moment you first assign a value to it.\n",
    "- If you want to specify the data type of a variable, this can be done with casting.\n",
    "- We can get the data type of a variable with the type() function."
   ]
  },
  {
   "cell_type": "code",
   "execution_count": 3,
   "id": "34704a4a",
   "metadata": {},
   "outputs": [
    {
     "name": "stdout",
     "output_type": "stream",
     "text": [
      "<class 'int'>\n",
      "<class 'float'>\n",
      "<class 'str'>\n",
      "****************************************\n",
      "<class 'str'>\n",
      "<class 'int'>\n",
      "<class 'float'>\n"
     ]
    }
   ],
   "source": [
    "a=10\n",
    "b=10.5\n",
    "c='123'\n",
    "print(type(a))\n",
    "print(type(b))\n",
    "print(type(c))\n",
    "a=str(a)\n",
    "b=int(b)\n",
    "c=float(c)\n",
    "print('*'*40)\n",
    "print(type(a))\n",
    "print(type(b))\n",
    "print(type(c))"
   ]
  },
  {
   "cell_type": "markdown",
   "id": "975265e4",
   "metadata": {},
   "source": [
    "Identifiers(it is a name given to variable method or a class)\n",
    "Rules to define identifiers:\n",
    "1. Allowed characters => Alphabets, Digits and Underscore Symbol\n",
    "2. Identifier should never start with a digit\n",
    "3. Case Sensitive.\n",
    "4. No length limit.\n",
    "5. Can't use reserved words for identifier.\n"
   ]
  },
  {
   "cell_type": "code",
   "execution_count": 4,
   "id": "5597e7e1",
   "metadata": {},
   "outputs": [
    {
     "name": "stdout",
     "output_type": "stream",
     "text": [
      "['False', 'None', 'True', 'and', 'as', 'assert', 'async', 'await', 'break', 'class', 'continue', 'def', 'del', 'elif', 'else', 'except', 'finally', 'for', 'from', 'global', 'if', 'import', 'in', 'is', 'lambda', 'nonlocal', 'not', 'or', 'pass', 'raise', 'return', 'try', 'while', 'with', 'yield']\n",
      "35\n"
     ]
    }
   ],
   "source": [
    "import keyword\n",
    "print(keyword.kwlist);\n",
    "print(len(keyword.kwlist));"
   ]
  },
  {
   "cell_type": "code",
   "execution_count": 3,
   "id": "35923588",
   "metadata": {},
   "outputs": [
    {
     "name": "stdout",
     "output_type": "stream",
     "text": [
      "<class 'int'>\n",
      "<class 'str'>\n",
      "<class 'float'>\n",
      "<class 'complex'>\n",
      "(20+5j)\n",
      "(20.5854857+5j)\n",
      "(10+15j)\n"
     ]
    }
   ],
   "source": [
    "a=10\n",
    "b='10'\n",
    "c=10.5854857\n",
    "d=10+5j\n",
    "e=10j#0+10j\n",
    "print(type(a))\n",
    "print(type(b))\n",
    "print(type(c))\n",
    "print(type(d))\n",
    "complex_int=a+d\n",
    "com_float=c+d\n",
    "com_com=d+e\n",
    "print(complex_int)\n",
    "print(com_float)\n",
    "print(com_com)\n"
   ]
  },
  {
   "cell_type": "markdown",
   "id": "116dc5bb",
   "metadata": {},
   "source": [
    "## Python Data Types<br>\n",
    "As we know that python is Dynamically typed programming language, than why do we need to learn about data type at all?\n",
    "\n",
    "Although python automatically understands the data type, but it is important to know about data types so that we can utilize the power of data structures in future.\n",
    "\n",
    "Basic Data Types available in python are:\n",
    "<pre>\n",
    "    <b>Numeric</b> - int, float, complex (Immutable)\n",
    "    <b>Boolean</b> - bool (True/False)\n",
    "    <b>Strings</b> (Immutable)\n",
    "    <b>List</b> (Mutable, mostly used to store homogeneous data types)\n",
    "    <b>Tuple</b> (Immutable, faster compared to List)\n",
    "    <b>Set</b> (Unordered collection of items, mutable, removes duplicates)\n",
    "    <b>Dictionary</b> (Unordered collection of Key-Value Pairs, Mutable, Keys are Unique - values may not be unique)\n",
    "</pre>\n"
   ]
  },
  {
   "cell_type": "markdown",
   "id": "067de21c",
   "metadata": {},
   "source": [
    "###### - List is a collection which is ordered and changeable. Allows duplicate members.\n",
    "###### - Tuple is a collection which is ordered and unchangeable. Allows duplicate members.\n",
    "###### - Set is a collection which is unordered, unchangeable*, and unindexed. No duplicate members\n",
    "###### - Dictionary is a collection which is ordered** and changeable. No duplicate members(key values)."
   ]
  },
  {
   "cell_type": "code",
   "execution_count": 5,
   "id": "2a5c2fd1",
   "metadata": {},
   "outputs": [],
   "source": [
    "#Numeric\n",
    "a=10\n",
    "b=10.5\n",
    "c=10+5j\n",
    "#boolean\n",
    "d=True\n",
    "#string\n",
    "e='abc'\n",
    "#list\n",
    "l=[1,2,3]\n",
    "#tuple\n",
    "t=(1,2,3)\n",
    "#set\n",
    "s={1,2,3}\n",
    "#dictionary\n",
    "d={1:'a',2:'b',3:'c'}"
   ]
  },
  {
   "cell_type": "code",
   "execution_count": 6,
   "id": "00a5c343",
   "metadata": {},
   "outputs": [],
   "source": [
    "l=[1,'a',{1,2},(1,2),[1,1],{'a':10}]\n",
    "t=(1,'a',{1,2},(1,2),[1,1],{'a':10})"
   ]
  },
  {
   "cell_type": "code",
   "execution_count": 7,
   "id": "7ab3a65c",
   "metadata": {},
   "outputs": [
    {
     "name": "stdout",
     "output_type": "stream",
     "text": [
      "<class 'tuple'>\n",
      "<class 'dict'>\n"
     ]
    }
   ],
   "source": [
    "a=1,2\n",
    "b={}\n",
    "print(type(a))\n",
    "print(type(b))"
   ]
  },
  {
   "cell_type": "code",
   "execution_count": 8,
   "id": "afac2d00",
   "metadata": {},
   "outputs": [
    {
     "ename": "TypeError",
     "evalue": "'str' object does not support item assignment",
     "output_type": "error",
     "traceback": [
      "\u001b[1;31m---------------------------------------------------------------------------\u001b[0m",
      "\u001b[1;31mTypeError\u001b[0m                                 Traceback (most recent call last)",
      "\u001b[1;32m<ipython-input-8-e208ef412fae>\u001b[0m in \u001b[0;36m<module>\u001b[1;34m\u001b[0m\n\u001b[0;32m      1\u001b[0m \u001b[0ms\u001b[0m\u001b[1;33m=\u001b[0m\u001b[1;34m'abcd'\u001b[0m\u001b[1;33m\u001b[0m\u001b[1;33m\u001b[0m\u001b[0m\n\u001b[1;32m----> 2\u001b[1;33m \u001b[0ms\u001b[0m\u001b[1;33m[\u001b[0m\u001b[1;36m2\u001b[0m\u001b[1;33m]\u001b[0m\u001b[1;33m=\u001b[0m\u001b[1;34m'e'\u001b[0m\u001b[1;33m\u001b[0m\u001b[1;33m\u001b[0m\u001b[0m\n\u001b[0m",
      "\u001b[1;31mTypeError\u001b[0m: 'str' object does not support item assignment"
     ]
    }
   ],
   "source": [
    "s='abcd'\n",
    "s[2]='e'"
   ]
  },
  {
   "cell_type": "markdown",
   "id": "1976588d",
   "metadata": {},
   "source": [
    "\n",
    "## Strings\n",
    "\n",
    "1. String is a sequence of characters.\n",
    "2. Use index to access characters in a string\n",
    "3. If we try to access index out of range or use decimal numbers we will get an error.\n",
    "4. Python supports both +ve and -ve index\n",
    "5. Strings are immutable. Elemets of strings can't be changed once it has been assigned. We can simply reassign different strings to the same name\n",
    "6. Strings support indexing as well as slicing.\n",
    "\n",
    "## Lists\n",
    "\n",
    "1. Sequence Data Structure.\n",
    "2. Used to store collection of items.\n",
    "3. Order is preserved in a list\n",
    "4. Mutable\n",
    "5. Indexing and slicing\n",
    "6. Dynamic i.e. increase or decrease in size\n",
    "\n",
    "## Tuples\n",
    "\n",
    "1. Similar to list but immutable.\n",
    "2. Sequence data type.\n",
    "3. Supports indexing and slicing.\n",
    "\n",
    "## Set\n",
    "\n",
    "1. Unordered collection of items i.e. they can't be indexed\n",
    "2. No duplicates allowed\n",
    "3. Mutable\n",
    "4. Used to perform mathematical operations like Union, intersection, etc..\n",
    "\n",
    "## Dictionary\n",
    "\n",
    "1. Unordered collection of items i.e. can't be indexed\n",
    "2. Other compound data tupes have only values as an element, whereas a dictionary has a KEY:VALUE pair\n",
    "3. Keys are unique, values may not be unique\n",
    "4. Values can be of any type, but key must be immutable."
   ]
  },
  {
   "cell_type": "code",
   "execution_count": 9,
   "id": "85e270b8",
   "metadata": {},
   "outputs": [],
   "source": [
    "# #taking input from the user by default the return type of input() is str\n",
    "# a=input('enter ')\n",
    "# a"
   ]
  },
  {
   "cell_type": "code",
   "execution_count": 10,
   "id": "81f18679",
   "metadata": {},
   "outputs": [
    {
     "data": {
      "text/plain": [
       "1000"
      ]
     },
     "execution_count": 10,
     "metadata": {},
     "output_type": "execute_result"
    }
   ],
   "source": [
    "a=10\n",
    "b=3\n",
    "a**b\n"
   ]
  },
  {
   "cell_type": "markdown",
   "id": "e9558b5a",
   "metadata": {},
   "source": [
    "## Operators\n",
    "Operator is a symbol that perform certain operation.\n",
    "\n",
    "Operators available in python are:\n",
    "\n",
    "1. Arithmatic (+, -, *, /, %, //, ***)\n",
    "2. Relational (>, >=, <, <=)\n",
    "3. Equality (==, !=)\n",
    "4. Logical (and, or, not)\n",
    "5. Bitwise (&, |, ^, ~, <<, >>)\n",
    "6. Assignment (=, +=, -=, *=, /=, etc..)\n",
    "7. Ternary\n",
    "8. Identity --> is, is not (used for address comparision)\n",
    "9. Membership --> in, not in"
   ]
  },
  {
   "cell_type": "code",
   "execution_count": 11,
   "id": "1aed12bb",
   "metadata": {},
   "outputs": [
    {
     "name": "stdout",
     "output_type": "stream",
     "text": [
      "a+b =  14\n",
      "a-b =  6\n",
      "a*b =  40\n",
      "a/b =  2.5\n",
      "a%b =  2\n",
      "a//b =  2\n",
      "a**b =  10000\n"
     ]
    }
   ],
   "source": [
    "# Arithmatic Operators\n",
    "\n",
    "a = 10;\n",
    "b = 4;\n",
    "print('a+b = ', a+b);\n",
    "print('a-b = ', a-b);\n",
    "print('a*b = ', a*b);\n",
    "print('a/b = ', a/b);\n",
    "print('a%b = ', a%b);\n",
    "print('a//b = ', a//b);\n",
    "print('a**b = ', a**b);"
   ]
  },
  {
   "cell_type": "code",
   "execution_count": 12,
   "id": "b23ee642",
   "metadata": {},
   "outputs": [
    {
     "name": "stdout",
     "output_type": "stream",
     "text": [
      "a<b =  False\n",
      "a<=b =  False\n",
      "a>b =  True\n",
      "a>=b =  True\n"
     ]
    }
   ],
   "source": [
    "# Relational Operators\n",
    "\n",
    "a = 10;\n",
    "b = 6;\n",
    "print('a<b = ', a<b);\n",
    "print('a<=b = ', a<=b);\n",
    "print('a>b = ', a>b);\n",
    "print('a>=b = ', a>=b);"
   ]
  },
  {
   "cell_type": "code",
   "execution_count": 13,
   "id": "106f0e18",
   "metadata": {},
   "outputs": [
    {
     "name": "stdout",
     "output_type": "stream",
     "text": [
      "a==b  False\n",
      "a!=b  True\n"
     ]
    }
   ],
   "source": [
    "# Equality Operators\n",
    "\n",
    "a = 10;\n",
    "b = 6;\n",
    "print('a==b ', a==b);\n",
    "print('a!=b ', a!=b);"
   ]
  },
  {
   "cell_type": "code",
   "execution_count": 14,
   "id": "0d97f11e",
   "metadata": {},
   "outputs": [
    {
     "name": "stdout",
     "output_type": "stream",
     "text": [
      "False\n",
      "True\n",
      "True\n",
      "True\n"
     ]
    }
   ],
   "source": [
    "# Logical Operators\n",
    "\n",
    "print(5 < 6 and 6 < 6)\n",
    "\n",
    "print(5 < 6 or 6 < 6)\n",
    "\n",
    "print(not(5 < 6 and 6 < 6))\n",
    "\n",
    "#not and or\n",
    "a=False\n",
    "b=True\n",
    "print(not(a) or not(b) and not(a))  #true or false and true #true or false\n",
    "\n",
    "# precedence not and or"
   ]
  },
  {
   "cell_type": "code",
   "execution_count": 15,
   "id": "dd4d7d6b",
   "metadata": {},
   "outputs": [
    {
     "name": "stdout",
     "output_type": "stream",
     "text": [
      "0\n",
      "15\n",
      "15\n",
      "98\n"
     ]
    }
   ],
   "source": [
    "# Bitwise\n",
    "# & -> if both bits are 1 then 1 otherwise 0\n",
    "# | -> if both bits are 0 then 0 otherwise 1\n",
    "# ^ -> if both bits are different then 1 otherwise 0\n",
    "# ~ -> bitwise complement\n",
    "\n",
    "print(5 & 10) # 0101  1010----0000-0\n",
    "\n",
    "print(5 | 10) # 0101  1010---1111-15\n",
    "\n",
    "print(5 ^ 10)# 0101  1010---1111-15\n",
    "\n",
    "print(~(-99)) #-value-1  -(-99)-1\n",
    "#The general formula to calculate the tilde operation ~i on an integer value i is ~i=-i-1."
   ]
  },
  {
   "cell_type": "code",
   "execution_count": 16,
   "id": "3facc7fe",
   "metadata": {},
   "outputs": [
    {
     "name": "stdout",
     "output_type": "stream",
     "text": [
      "20\n",
      "5\n"
     ]
    }
   ],
   "source": [
    "# Shift Operators\n",
    "\n",
    "print(10 << 1);# 01010--10100--20\n",
    "\n",
    "print(10 >> 1);#01010--00101--5"
   ]
  },
  {
   "cell_type": "code",
   "execution_count": 17,
   "id": "e0d51bcc",
   "metadata": {},
   "outputs": [
    {
     "name": "stdout",
     "output_type": "stream",
     "text": [
      "20\n"
     ]
    }
   ],
   "source": [
    "# Assignment Operators\n",
    "\n",
    "x = 10;\n",
    "\n",
    "x += 10; #x=x+10\n",
    "\n",
    "print(x);"
   ]
  },
  {
   "cell_type": "code",
   "execution_count": 18,
   "id": "cf0fe6df",
   "metadata": {},
   "outputs": [
    {
     "name": "stdout",
     "output_type": "stream",
     "text": [
      "5 6\n"
     ]
    }
   ],
   "source": [
    "# Ternary\n",
    "\n",
    "x = 5 if (5 < 6) else 6\n",
    "\n",
    "y = 5 if (5 > 6) else 6\n",
    "\n",
    "print(x, y)"
   ]
  },
  {
   "cell_type": "code",
   "execution_count": 19,
   "id": "3e1cabef",
   "metadata": {},
   "outputs": [
    {
     "name": "stdout",
     "output_type": "stream",
     "text": [
      "False\n",
      "True\n"
     ]
    }
   ],
   "source": [
    "#Membership operator--in and not in are used to find whether a value or variable is found in a sequence. \n",
    "lst = [1,2,3,4]\n",
    "\n",
    "print(5 in lst)\n",
    "print(5 not in lst)"
   ]
  },
  {
   "cell_type": "code",
   "execution_count": 20,
   "id": "ca0395cc",
   "metadata": {},
   "outputs": [
    {
     "name": "stdout",
     "output_type": "stream",
     "text": [
      "True\n",
      "False\n",
      "8791334070352\n",
      "8791334070352\n",
      "8791334070352\n"
     ]
    }
   ],
   "source": [
    "#Identity operators\n",
    "a=10\n",
    "b=10\n",
    "l=[1,2,3,10]\n",
    "print(a is l[3])\n",
    "print(a is not b)\n",
    "print(id(a))\n",
    "print(id(b))\n",
    "print(id(l[3]))"
   ]
  },
  {
   "cell_type": "markdown",
   "id": "1b38315e",
   "metadata": {},
   "source": [
    "### Python Indentation\n",
    "Indentation refers to the spaces at the beginning of a code line.\n",
    "\n",
    "Where in other programming languages the indentation in code is for readability only, the indentation in Python is very important.\n",
    "\n",
    "Python uses indentation to indicate a block of code."
   ]
  },
  {
   "cell_type": "code",
   "execution_count": 21,
   "id": "ab7802c8",
   "metadata": {},
   "outputs": [
    {
     "name": "stdout",
     "output_type": "stream",
     "text": [
      "yes, a == b\n",
      "this is one of the if statement \n",
      "if condition is true\n",
      "Outside if\n"
     ]
    }
   ],
   "source": [
    "a = 10\n",
    "\n",
    "b = 10\n",
    "\n",
    "if a == b:\n",
    "    print('yes, a == b')\n",
    "    print('this is one of the if statement ')\n",
    "    print('if condition is true')\n",
    "print('Outside if') "
   ]
  },
  {
   "cell_type": "markdown",
   "id": "b761720e",
   "metadata": {},
   "source": [
    "## if Statement"
   ]
  },
  {
   "cell_type": "markdown",
   "id": "65394d2e",
   "metadata": {},
   "source": [
    "#### if condition\n",
    "The if condition is considered the simplest it makes a decision based on whether the condition is true or not. If the condition is true, it prints out the indented expression. If the condition is false, it skips printing the indented expression.\n"
   ]
  },
  {
   "cell_type": "markdown",
   "id": "a4f70b9c",
   "metadata": {},
   "source": [
    "<img src = '1-Copy1.jpg'>"
   ]
  },
  {
   "cell_type": "code",
   "execution_count": 22,
   "id": "71ab0792",
   "metadata": {},
   "outputs": [
    {
     "name": "stdout",
     "output_type": "stream",
     "text": [
      "This line will print always\n"
     ]
    }
   ],
   "source": [
    "# syntax\n",
    "''' if condition:\n",
    "      statement1\n",
    "      statement2\n",
    "      ....\n",
    "      statementn '''\n",
    "\n",
    "\n",
    "\n",
    "num=10\n",
    "\n",
    "if num==9:\n",
    "    print('Number is 10')\n",
    "\n",
    "print('This line will print always')\n",
    "\n"
   ]
  },
  {
   "cell_type": "markdown",
   "id": "7d530619",
   "metadata": {},
   "source": [
    "## if.....else Statement"
   ]
  },
  {
   "cell_type": "markdown",
   "id": "ce9aa5c0",
   "metadata": {},
   "source": [
    "<img src = '2-Copy1.jpg'>"
   ]
  },
  {
   "cell_type": "code",
   "execution_count": 3,
   "id": "1914db00",
   "metadata": {},
   "outputs": [
    {
     "name": "stdout",
     "output_type": "stream",
     "text": [
      "Positive\n"
     ]
    }
   ],
   "source": [
    "# syntax\n",
    "''' if condition:\n",
    "       statement1\n",
    "       statement2\n",
    "       ....\n",
    "       statementn\n",
    "    else:\n",
    "        else statement1\n",
    "        else statement2\n",
    "        ....\n",
    "        else statementn'''\n",
    "\n",
    "\n",
    "\n",
    "num = 1\n",
    "\n",
    "if(num >= 0):\n",
    "    print('Positive')\n",
    "else:\n",
    "    print('Negative')\n",
    "#print('This line will print anyways')"
   ]
  },
  {
   "cell_type": "markdown",
   "id": "e35e5832",
   "metadata": {},
   "source": [
    "## if......elif......else Statement"
   ]
  },
  {
   "cell_type": "markdown",
   "id": "ad867602",
   "metadata": {},
   "source": [
    "<img src = '3-Copy1.jpg'>"
   ]
  },
  {
   "cell_type": "code",
   "execution_count": 24,
   "id": "19eae51e",
   "metadata": {},
   "outputs": [
    {
     "name": "stdout",
     "output_type": "stream",
     "text": [
      "ZERO\n"
     ]
    }
   ],
   "source": [
    "# syntax\n",
    "''' if condition:\n",
    "       statement1\n",
    "       ....\n",
    "       statementn\n",
    "    elif condition:\n",
    "        elif statement1\n",
    "        ....\n",
    "        elif statementn\n",
    "    else:\n",
    "        else statement1\n",
    "        ....\n",
    "        else statementn\n",
    "        '''\n",
    "num = 0\n",
    "\n",
    "if(num > 0):\n",
    "    print('Positive')\n",
    "elif(num == 0):\n",
    "    print('ZERO')\n",
    "else:\n",
    "    print('Negative')"
   ]
  },
  {
   "cell_type": "markdown",
   "id": "774513a4",
   "metadata": {},
   "source": [
    "## Nested if - else Statements"
   ]
  },
  {
   "cell_type": "code",
   "execution_count": 25,
   "id": "829ffef0",
   "metadata": {},
   "outputs": [
    {
     "name": "stdout",
     "output_type": "stream",
     "text": [
      "Zero\n"
     ]
    }
   ],
   "source": [
    "# syntax\n",
    "''' if condition:\n",
    "        statement1-if1\n",
    "        ....\n",
    "        statementn-if1\n",
    "        if condition:\n",
    "          statement1-if2\n",
    "           ....\n",
    "          statementn-if2\n",
    "        else:\n",
    "           else1 statement1\n",
    "            ....\n",
    "           else1 statementn\n",
    "    else:\n",
    "        else2 statement1\n",
    "        ....\n",
    "        else2 statementn'''\n",
    "\n",
    "num = 0\n",
    "\n",
    "if num >= 0:\n",
    "    if num == 0:\n",
    "        print('Zero')\n",
    "    else:\n",
    "        print('Positive')\n",
    "else:\n",
    "   print('Negative')"
   ]
  },
  {
   "cell_type": "markdown",
   "id": "2b72861a",
   "metadata": {},
   "source": [
    "### Python Loops\n",
    "Python has two primitive loop commands:\n",
    "\n",
    "- while loops\n",
    "- for loops"
   ]
  },
  {
   "cell_type": "markdown",
   "id": "84c548e0",
   "metadata": {},
   "source": [
    "### while Loop\n",
    "With the while loop we can execute a set of statements as long as a condition is true."
   ]
  },
  {
   "cell_type": "code",
   "execution_count": 26,
   "id": "73dffb50",
   "metadata": {},
   "outputs": [
    {
     "name": "stdout",
     "output_type": "stream",
     "text": [
      "0\n",
      "1\n",
      "2\n",
      "3\n",
      "4\n",
      "5\n",
      "Hi\n"
     ]
    }
   ],
   "source": [
    "#syntax\n",
    "'''while condition:\n",
    "        Statements'''\n",
    "\n",
    "num = 0\n",
    "\n",
    "while num <=5:\n",
    "  print(num)\n",
    "  num += 1\n",
    "\n",
    "print('Hi')"
   ]
  },
  {
   "cell_type": "markdown",
   "id": "de56c4e4",
   "metadata": {},
   "source": [
    "### while-else "
   ]
  },
  {
   "cell_type": "code",
   "execution_count": 27,
   "id": "50f96f8f",
   "metadata": {},
   "outputs": [
    {
     "name": "stdout",
     "output_type": "stream",
     "text": [
      "0\n",
      "1\n",
      "2\n",
      "3\n",
      "4\n",
      "5\n",
      "while condition becomes false\n",
      "Hi\n"
     ]
    }
   ],
   "source": [
    "#syntax\n",
    "'''while condition:\n",
    "        Statements\n",
    "    else:\n",
    "        Statements'''\n",
    "\n",
    "num = 0\n",
    "\n",
    "while num <=5:\n",
    "  print(num)\n",
    "  num += 1\n",
    "else:\n",
    "    print('while condition becomes false')\n",
    "print('Hi')"
   ]
  },
  {
   "cell_type": "markdown",
   "id": "2ddf98c8",
   "metadata": {},
   "source": [
    "### for loop\n",
    "A for loop is used for iterating over a sequence (that is either a list, a tuple, a dictionary, a set, or a string).\n",
    "With the for loop we can execute a set of statements, once for each item in a list, tuple, set etc.\n"
   ]
  },
  {
   "cell_type": "code",
   "execution_count": 28,
   "id": "37b11f77",
   "metadata": {},
   "outputs": [
    {
     "name": "stdout",
     "output_type": "stream",
     "text": [
      "0\n",
      "2\n",
      "4\n"
     ]
    }
   ],
   "source": [
    "# syntax \n",
    "'''for iterative- condition:\n",
    "      Staetemts'''\n",
    "for j in range(0,5,2):#start stop-1\n",
    "  print(j)\n"
   ]
  },
  {
   "cell_type": "code",
   "execution_count": 29,
   "id": "010f934e",
   "metadata": {},
   "outputs": [
    {
     "name": "stdout",
     "output_type": "stream",
     "text": [
      "24\n"
     ]
    }
   ],
   "source": [
    "l=[1,2,3,4]\n",
    "prod=1\n",
    "for i in l:\n",
    "    prod*=i #prod=prod*i\n",
    "print(prod)\n",
    "    "
   ]
  },
  {
   "cell_type": "markdown",
   "id": "2f602083",
   "metadata": {},
   "source": [
    "### for else "
   ]
  },
  {
   "cell_type": "code",
   "execution_count": 30,
   "id": "c230ef83",
   "metadata": {},
   "outputs": [
    {
     "name": "stdout",
     "output_type": "stream",
     "text": [
      "all elements in the list have been completed\n",
      "24\n"
     ]
    }
   ],
   "source": [
    "# syntax \n",
    "'''for iterative- condition:\n",
    "      Staetemts\n",
    "   else:\n",
    "       Statementof else'''\n",
    "l=[1,2,3,4]\n",
    "prod=1\n",
    "for i in l:\n",
    "    prod*=i\n",
    "else:\n",
    "    print('all elements in the list have been completed')\n",
    "print(prod)\n"
   ]
  },
  {
   "cell_type": "markdown",
   "id": "20e71e5e",
   "metadata": {},
   "source": [
    "#### NOTE\n",
    "The statements inside the loop's else clause will get executed once after the loop has completed successfully."
   ]
  },
  {
   "cell_type": "markdown",
   "id": "391c194c",
   "metadata": {},
   "source": [
    "### Nested loops"
   ]
  },
  {
   "cell_type": "code",
   "execution_count": 31,
   "id": "7a2a89e4",
   "metadata": {},
   "outputs": [
    {
     "name": "stdout",
     "output_type": "stream",
     "text": [
      "1 a\n",
      "1 b\n",
      "1 c\n",
      "2 a\n",
      "2 b\n",
      "2 c\n",
      "3 a\n",
      "3 b\n",
      "3 c\n"
     ]
    }
   ],
   "source": [
    "l1=[1,2,3]\n",
    "l2=['a','b','c']\n",
    "for i in l1:\n",
    "    for j in l2:\n",
    "        print(i,j)"
   ]
  },
  {
   "cell_type": "markdown",
   "id": "25f6df4d",
   "metadata": {},
   "source": [
    "### Break and continue\n",
    "- With the break statement we can stop the loop before it has looped through all the items\n",
    "- With the continue statement we can stop the current iteration of the loop, and continue with the next"
   ]
  },
  {
   "cell_type": "markdown",
   "id": "086884c9",
   "metadata": {},
   "source": [
    "![title](1.jpg)"
   ]
  },
  {
   "cell_type": "code",
   "execution_count": 32,
   "id": "c48dcad3",
   "metadata": {},
   "outputs": [
    {
     "name": "stdout",
     "output_type": "stream",
     "text": [
      "The count is:   0\n",
      "The count is:   1\n",
      "The count is:   2\n",
      "The count is:   3\n",
      "The count is:   4\n",
      "Good bye!\n"
     ]
    }
   ],
   "source": [
    "for count in range(10):\n",
    "    if count == 5:\n",
    "        break\n",
    "    print('The count is:  ', count)\n",
    "print('Good bye!')"
   ]
  },
  {
   "cell_type": "code",
   "execution_count": 33,
   "id": "ee435499",
   "metadata": {},
   "outputs": [
    {
     "name": "stdout",
     "output_type": "stream",
     "text": [
      "The count is:   0\n",
      "The count is:   1\n",
      "The count is:   2\n",
      "The count is:   3\n",
      "The count is:   4\n",
      "Good bye!\n"
     ]
    }
   ],
   "source": [
    "for count in range(10):\n",
    "    if count == 5:\n",
    "        break\n",
    "    print('The count is:  ', count)\n",
    "else:\n",
    "    print('for loop executed successfully')\n",
    "print('Good bye!')"
   ]
  },
  {
   "cell_type": "code",
   "execution_count": 34,
   "id": "94382189",
   "metadata": {},
   "outputs": [
    {
     "name": "stdout",
     "output_type": "stream",
     "text": [
      "0\n",
      "1\n",
      "2\n",
      "3\n"
     ]
    }
   ],
   "source": [
    "n=0\n",
    "while n<=5:\n",
    "    print(n)\n",
    "    if n==3:\n",
    "        break\n",
    "    n+=1"
   ]
  },
  {
   "cell_type": "code",
   "execution_count": 35,
   "id": "8429e8e6",
   "metadata": {},
   "outputs": [
    {
     "name": "stdout",
     "output_type": "stream",
     "text": [
      "0\n",
      "1\n",
      "2\n",
      "3\n"
     ]
    }
   ],
   "source": [
    "n=0\n",
    "while n<=5:\n",
    "    print(n)\n",
    "    if n==3:\n",
    "        break\n",
    "    n+=1\n",
    "else:\n",
    "    print('While loop executed successfully')"
   ]
  },
  {
   "cell_type": "markdown",
   "id": "2ae39961",
   "metadata": {},
   "source": [
    "![title](2.jpg)"
   ]
  },
  {
   "cell_type": "code",
   "execution_count": 36,
   "id": "0fa962ed",
   "metadata": {},
   "outputs": [
    {
     "name": "stdout",
     "output_type": "stream",
     "text": [
      "0\n",
      "1\n",
      "2\n",
      "3\n",
      "4\n",
      "6\n",
      "7\n",
      "8\n",
      "9\n",
      "Good bye!\n"
     ]
    }
   ],
   "source": [
    "for count in range(10):\n",
    "    if count == 5:\n",
    "        continue\n",
    "    print(count)\n",
    "print('Good bye!')"
   ]
  },
  {
   "cell_type": "code",
   "execution_count": 37,
   "id": "516b137e",
   "metadata": {},
   "outputs": [
    {
     "name": "stdout",
     "output_type": "stream",
     "text": [
      "1\n",
      "2\n",
      "4\n",
      "5\n",
      "6\n"
     ]
    }
   ],
   "source": [
    "n=0\n",
    "while n<=5:\n",
    "    n+=1\n",
    "    if n==3:\n",
    "        continue\n",
    "    print(n)"
   ]
  },
  {
   "cell_type": "markdown",
   "id": "4e90e6a7",
   "metadata": {},
   "source": [
    "## Python Functions"
   ]
  },
  {
   "cell_type": "markdown",
   "id": "4fdffede",
   "metadata": {},
   "source": [
    "A function is a block of code which only runs when it is called.\n",
    "\n",
    "You can pass data, known as parameters, into a function.\n",
    "\n",
    "A function can return data as a result.<br>\n",
    "## Creating a Function\n",
    "In Python a function is defined using the def keyword\n",
    "- To call a function, use the function name followed by parenthesis"
   ]
  },
  {
   "cell_type": "code",
   "execution_count": 38,
   "id": "11e3da8f",
   "metadata": {},
   "outputs": [],
   "source": [
    "# function definition\n",
    "\n",
    "def even_odd(var):\n",
    "    if var % 2 == 0:\n",
    "        return \"Even\"\n",
    "    else:\n",
    "        return \"Odd\""
   ]
  },
  {
   "cell_type": "code",
   "execution_count": 39,
   "id": "d15c6a04",
   "metadata": {},
   "outputs": [
    {
     "name": "stdout",
     "output_type": "stream",
     "text": [
      "1\n"
     ]
    },
    {
     "data": {
      "text/plain": [
       "'abc'"
      ]
     },
     "execution_count": 39,
     "metadata": {},
     "output_type": "execute_result"
    }
   ],
   "source": [
    "def A():\n",
    "    print('1')\n",
    "    return 'abc'\n",
    "    print('abc1')\n",
    "\n",
    "A()"
   ]
  },
  {
   "cell_type": "code",
   "execution_count": 40,
   "id": "e2f29f0a",
   "metadata": {},
   "outputs": [
    {
     "name": "stdout",
     "output_type": "stream",
     "text": [
      "Enter a number: \n"
     ]
    },
    {
     "ename": "ValueError",
     "evalue": "invalid literal for int() with base 10: ''",
     "output_type": "error",
     "traceback": [
      "\u001b[1;31m---------------------------------------------------------------------------\u001b[0m",
      "\u001b[1;31mValueError\u001b[0m                                Traceback (most recent call last)",
      "\u001b[1;32m<ipython-input-40-5cfae5b2da39>\u001b[0m in \u001b[0;36m<module>\u001b[1;34m\u001b[0m\n\u001b[1;32m----> 1\u001b[1;33m \u001b[0muser_input\u001b[0m \u001b[1;33m=\u001b[0m \u001b[0mint\u001b[0m\u001b[1;33m(\u001b[0m\u001b[0minput\u001b[0m\u001b[1;33m(\u001b[0m\u001b[1;34m\"Enter a number: \"\u001b[0m\u001b[1;33m)\u001b[0m\u001b[1;33m)\u001b[0m\u001b[1;33m\u001b[0m\u001b[1;33m\u001b[0m\u001b[0m\n\u001b[0m\u001b[0;32m      2\u001b[0m \u001b[0mprint\u001b[0m\u001b[1;33m(\u001b[0m\u001b[0meven_odd\u001b[0m\u001b[1;33m(\u001b[0m\u001b[0muser_input\u001b[0m\u001b[1;33m)\u001b[0m\u001b[1;33m)\u001b[0m\u001b[1;33m\u001b[0m\u001b[1;33m\u001b[0m\u001b[0m\n",
      "\u001b[1;31mValueError\u001b[0m: invalid literal for int() with base 10: ''"
     ]
    }
   ],
   "source": [
    "user_input = int(input(\"Enter a number: \"))\n",
    "print(even_odd(user_input))"
   ]
  },
  {
   "cell_type": "code",
   "execution_count": 41,
   "id": "de193a9b",
   "metadata": {},
   "outputs": [
    {
     "name": "stdout",
     "output_type": "stream",
     "text": [
      "Enter a number: 10\n"
     ]
    }
   ],
   "source": [
    "# Write a program, to muliply a number with 10 if the given number is odd\n",
    "\n",
    "user_input = int(input(\"Enter a number: \"))\n",
    "\n",
    "if even_odd(user_input) == \"Odd\":\n",
    "    print(user_input * 10)"
   ]
  },
  {
   "cell_type": "markdown",
   "id": "99784712",
   "metadata": {},
   "source": [
    "# print and return\n",
    "- print is a function you call. Calling print will immediately make your program write out text for you to see. Use print when you want to show a value to a human.\n",
    "\n",
    "- return is a keyword. When a return statement is reached, Python will stop the execution of the current function, sending a value out to where the function was called. Use return when you want to send a value from one point in your code to another.\n",
    "\n",
    "- Using return changes the flow of the program. Using print does not."
   ]
  },
  {
   "cell_type": "code",
   "execution_count": null,
   "id": "b3411290",
   "metadata": {},
   "outputs": [],
   "source": [
    "def even_odd(var):\n",
    "    if var % 2 == 0:\n",
    "        return \"Even\"\n",
    "        print('after return')\n",
    "    else:\n",
    "        return \"Odd\"\n",
    "    print('abc')"
   ]
  },
  {
   "cell_type": "code",
   "execution_count": null,
   "id": "6a4d21ac",
   "metadata": {},
   "outputs": [],
   "source": [
    "even_odd(10)"
   ]
  },
  {
   "cell_type": "markdown",
   "id": "ff7548cb",
   "metadata": {},
   "source": [
    "### Passing a List as an Argument\n",
    "- We can send any data types of argument to a function (string, number, list, dictionary etc.), and it will be treated as the same data type inside the function.\n",
    "\n",
    "- E.g. if you send a List as an argument, it will still be a List when it reaches the function"
   ]
  },
  {
   "cell_type": "code",
   "execution_count": null,
   "id": "13f2965b",
   "metadata": {},
   "outputs": [],
   "source": [
    "def listMethod(l):\n",
    "    for i in l:\n",
    "        print(i)\n",
    "lst=['a','b','c']\n",
    "listMethod(lst)"
   ]
  },
  {
   "cell_type": "markdown",
   "id": "168b5e1f",
   "metadata": {},
   "source": [
    "### The pass Statement\n",
    "function definitions cannot be empty, but if you for some reason have a function definition with no content, put in the pass statement to avoid getting an error."
   ]
  },
  {
   "cell_type": "code",
   "execution_count": null,
   "id": "b052a9da",
   "metadata": {},
   "outputs": [],
   "source": [
    "def Nostmt():\n",
    "    pass\n"
   ]
  },
  {
   "cell_type": "markdown",
   "id": "1decc7c3",
   "metadata": {},
   "source": [
    "### Recursion\n",
    "- Python also accepts function recursion, which means a defined function can call itself.\n",
    "\n",
    "- Recursion is a common mathematical and programming concept. It means that a function calls itself. This has the benefit of meaning that you can loop through data to reach a result."
   ]
  },
  {
   "cell_type": "code",
   "execution_count": null,
   "id": "5d2b55f7",
   "metadata": {},
   "outputs": [],
   "source": [
    "#Normal method\n",
    "def factorial(n):\n",
    "    f=1\n",
    "    for i in range(1,n+1):\n",
    "        f*=i\n",
    "    print(f)\n",
    "    \n",
    "factorial(5)"
   ]
  },
  {
   "cell_type": "code",
   "execution_count": null,
   "id": "0156adf4",
   "metadata": {},
   "outputs": [],
   "source": [
    "# same code with recursion\n",
    "def rfact(n):\n",
    "    if n==1:\n",
    "        return 1\n",
    "    else:\n",
    "        f=n*(rfact(n-1))\n",
    "        return f\n",
    "\n",
    "rfact(5)"
   ]
  },
  {
   "cell_type": "markdown",
   "id": "b3bd9df5",
   "metadata": {},
   "source": [
    "### Function Definition & Calling a Function"
   ]
  },
  {
   "cell_type": "markdown",
   "id": "960e3534",
   "metadata": {},
   "source": [
    "### DOC string\n",
    "Python documentation string or commonly known as docstring, is a string literal, and it is used in the class, module, function, or method definition.<br>\n",
    "Docstrings are accessible from the doc attribute (__doc__) for any of the Python objects and also with the built-in help() function.<br>\n",
    "An object's docstring is defined by including a string constant as the first statement in the object's definition.\n"
   ]
  },
  {
   "cell_type": "code",
   "execution_count": null,
   "id": "326db09e",
   "metadata": {
    "ExecuteTime": {
     "end_time": "2018-08-22T08:34:39.355326Z",
     "start_time": "2018-08-22T08:34:39.351324Z"
    }
   },
   "outputs": [],
   "source": [
    "def myFirstFunction():\n",
    "    '''This is my first function. It will print Hello World always.'''\n",
    "    print('Hello World')\n",
    "    \n",
    "myFirstFunction()\n",
    "\n",
    "# try to change indentation and line of the code."
   ]
  },
  {
   "cell_type": "code",
   "execution_count": null,
   "id": "68b86dfe",
   "metadata": {},
   "outputs": [],
   "source": [
    "help(myFirstFunction)"
   ]
  },
  {
   "cell_type": "code",
   "execution_count": null,
   "id": "62ef7d9f",
   "metadata": {
    "ExecuteTime": {
     "end_time": "2018-05-29T03:12:57.806089Z",
     "start_time": "2018-05-29T03:12:57.799554Z"
    },
    "scrolled": true
   },
   "outputs": [],
   "source": [
    "print(myFirstFunction.__doc__)"
   ]
  },
  {
   "cell_type": "code",
   "execution_count": null,
   "id": "c09030dc",
   "metadata": {},
   "outputs": [],
   "source": [
    "def myf():\n",
    "    ''' hi\n",
    "    how \n",
    "    are you?'''\n",
    "    print('hello')\n",
    "\n",
    "myf()\n",
    "\n",
    "print(myf.__doc__)\n",
    "#help(myf)"
   ]
  },
  {
   "cell_type": "code",
   "execution_count": null,
   "id": "55a460c4",
   "metadata": {
    "ExecuteTime": {
     "end_time": "2018-06-14T08:33:45.025913Z",
     "start_time": "2018-06-14T08:33:45.018233Z"
    },
    "scrolled": true
   },
   "outputs": [],
   "source": [
    "print(divmod(5,2))"
   ]
  },
  {
   "cell_type": "code",
   "execution_count": null,
   "id": "ed78a53f",
   "metadata": {
    "ExecuteTime": {
     "end_time": "2018-05-29T06:59:51.586341Z",
     "start_time": "2018-05-29T06:59:51.582833Z"
    }
   },
   "outputs": [],
   "source": [
    "print(divmod.__doc__)"
   ]
  },
  {
   "cell_type": "code",
   "execution_count": null,
   "id": "b2f98b0f",
   "metadata": {
    "ExecuteTime": {
     "end_time": "2018-08-22T08:46:55.496063Z",
     "start_time": "2018-08-22T08:46:55.492076Z"
    },
    "scrolled": true
   },
   "outputs": [],
   "source": [
    "# when we want to know a return type of a function we can use print statement\n",
    "def fun():\n",
    "    print('Hello')\n",
    "#fun()\n",
    "print(fun())\n",
    "print(print())"
   ]
  },
  {
   "cell_type": "code",
   "execution_count": null,
   "id": "24175121",
   "metadata": {
    "ExecuteTime": {
     "end_time": "2018-08-22T08:51:54.294679Z",
     "start_time": "2018-08-22T08:51:54.289691Z"
    }
   },
   "outputs": [],
   "source": [
    "# Multiple Returns\n",
    "\n",
    "def add_sub(a,b):\n",
    "    add = a+b\n",
    "    sub = a-b\n",
    "    return add, sub\n",
    "\n",
    "print(add_sub(15,5))\n",
    "\n",
    "print(type(add_sub(15,5)))\n",
    "#check with one return type\n"
   ]
  },
  {
   "cell_type": "markdown",
   "id": "2e3734ff",
   "metadata": {},
   "source": [
    "### Scope of Variables\n",
    "#### Local Scope\n",
    "Whenever you define a variable within a function, its scope lies ONLY within the function. It is accessible from the point at which it is defined until the end of the function and exists for as long as the function is executing (Source). Which means its value cannot be changed or even accessed from outside the function.\n",
    "#### Enclosing Scope\n",
    "- What if we have a nested function (function defined inside another function)?\n",
    "- Enclosing (or nonlocal) scope is a special scope that only exists for nested functions. If the local scope is an inner or nested function, then the enclosing scope is the scope of the outer or enclosing function. This scope contains the names that you define in the enclosing function.\n",
    "\n",
    "#### Global Scope\n",
    "This is perhaps the easiest scope to understand. Whenever a variable is defined outside any function, it becomes a global variable, and its scope is anywhere within the program. Which means it can be used by any function.\n"
   ]
  },
  {
   "cell_type": "code",
   "execution_count": null,
   "id": "fe5ef7a7",
   "metadata": {},
   "outputs": [],
   "source": [
    "#local variable\n",
    "def L():\n",
    "    mno=10\n",
    "    print(mno)\n",
    "L()\n",
    "print(mno)"
   ]
  },
  {
   "cell_type": "code",
   "execution_count": null,
   "id": "7e8e5cd8",
   "metadata": {},
   "outputs": [],
   "source": [
    "#enclosing scope\n",
    "def outer():\n",
    "    first_num = 1\n",
    "    def inner():\n",
    "        second_num = 2\n",
    "        # Print statement 1 - Scope: Inner\n",
    "        print(\"first_num from outer: \", first_num)\n",
    "        # Print statement 2 - Scope: Inner\n",
    "        print(\"second_num from inner: \", second_num)\n",
    "    inner()\n",
    "    # Print statement 3 - Scope: Outer\n",
    "    print(\"second_num from inner: \", second_num)\n",
    "\n",
    "outer()\n",
    "#inner()"
   ]
  },
  {
   "cell_type": "code",
   "execution_count": null,
   "id": "d386d83a",
   "metadata": {
    "ExecuteTime": {
     "end_time": "2018-08-22T09:29:43.119120Z",
     "start_time": "2018-08-22T09:29:43.116126Z"
    }
   },
   "outputs": [],
   "source": [
    "# Global variable is accessible everywhere\n",
    "\n",
    "a = 10\n",
    "b = 20\n",
    "\n",
    "def fun_sum():\n",
    "    print(a+b)\n",
    "\n",
    "fun_sum()\n"
   ]
  },
  {
   "cell_type": "code",
   "execution_count": null,
   "id": "45d8f013",
   "metadata": {},
   "outputs": [],
   "source": [
    "def fun():\n",
    "    l = 10\n",
    "    m = 20\n",
    "    \n",
    "print(l + m)"
   ]
  },
  {
   "cell_type": "code",
   "execution_count": null,
   "id": "08154f5f",
   "metadata": {},
   "outputs": [],
   "source": [
    "# glabal variable\n",
    "temp = 10\n",
    "\n",
    "def fun():\n",
    "    temp = temp + 5\n",
    "    print(temp)\n",
    "    \n",
    "fun()"
   ]
  },
  {
   "cell_type": "markdown",
   "id": "d3b91d9e",
   "metadata": {},
   "source": [
    "<b> Rules of `global` keyword:</b>\n",
    "\n",
    "- If a variable is assigned a value anywhere within the function’s body, it’s assumed to be a local unless explicitly declared as global.\n",
    "- Variables that are only referenced inside a function are implicitly global.\n",
    "- We use global keyword to use a global variable inside a function.\n",
    "- There is no need to use global keyword outside a function."
   ]
  },
  {
   "cell_type": "code",
   "execution_count": null,
   "id": "d55ab2b8",
   "metadata": {},
   "outputs": [],
   "source": [
    "temp = 10\n",
    "\n",
    "def fun():\n",
    "    global temp\n",
    "    temp = temp + 5\n",
    "    print(temp)\n",
    "    \n",
    "fun()\n",
    "print(temp)"
   ]
  },
  {
   "cell_type": "markdown",
   "id": "a759dc3e",
   "metadata": {},
   "source": [
    "### Python Lambda\n",
    "- A lambda function is a small anonymous function.\n",
    "\n",
    "- A lambda function can take any number of arguments, but can only have one expression.\n",
    "\n",
    "<b>Syntax<br>\n",
    "lambda arguments : expression</b>"
   ]
  },
  {
   "cell_type": "code",
   "execution_count": null,
   "id": "302cb516",
   "metadata": {},
   "outputs": [],
   "source": [
    "x = lambda a : a + 10\n",
    "print(x(5))"
   ]
  },
  {
   "cell_type": "code",
   "execution_count": null,
   "id": "d7267f22",
   "metadata": {},
   "outputs": [],
   "source": [
    "x = lambda a, b, c : a + b + c\n",
    "print(x(5, 6, 2))"
   ]
  },
  {
   "cell_type": "markdown",
   "id": "b508cc6c",
   "metadata": {},
   "source": [
    "# MODULES\n",
    "Modules are simply files with the “. py” extension containing Python code that can be imported inside another Python Program. In simple terms, we can consider a module to be the same as a code library or a file that contains a set of functions that you want to include in your application."
   ]
  },
  {
   "cell_type": "markdown",
   "id": "c7c1b999",
   "metadata": {},
   "source": [
    "## Importing a Module\n",
    "Now we can use the  required module, by using the import statement."
   ]
  },
  {
   "cell_type": "code",
   "execution_count": null,
   "id": "4724ee32",
   "metadata": {
    "ExecuteTime": {
     "end_time": "2018-08-31T03:20:46.726323Z",
     "start_time": "2018-08-31T03:20:46.722355Z"
    }
   },
   "outputs": [],
   "source": [
    "import math\n",
    "print(math.pi)\n",
    "print(math.e)\n",
    "\n",
    "#pip install modulename\n",
    "#()-- method ---attribute "
   ]
  },
  {
   "cell_type": "code",
   "execution_count": null,
   "id": "44cf3486",
   "metadata": {},
   "outputs": [],
   "source": [
    "import math\n",
    "\n",
    "print(math.factorial(5))"
   ]
  },
  {
   "cell_type": "code",
   "execution_count": null,
   "id": "4e619bdb",
   "metadata": {},
   "outputs": [],
   "source": [
    "def abc():\n",
    "    a=input('enter anything')\n",
    "    ''' THis is my doc string printing something'''\n",
    "    print(a)"
   ]
  },
  {
   "cell_type": "code",
   "execution_count": null,
   "id": "8b6d9216",
   "metadata": {},
   "outputs": [],
   "source": [
    "help(abc)"
   ]
  },
  {
   "cell_type": "markdown",
   "id": "b25ff375",
   "metadata": {},
   "source": [
    "## Using help() and dir()\n",
    "- The Python help function is used to display the documentation of modules, functions, classes, keywords, etc.\n",
    "-dir() is a powerful inbuilt function in Python3, which returns list of the attributes and methods of any object (say functions , modules, strings, lists, dictionaries etc.)"
   ]
  },
  {
   "cell_type": "code",
   "execution_count": null,
   "id": "f0cb5a64",
   "metadata": {
    "ExecuteTime": {
     "end_time": "2018-08-31T03:22:13.033049Z",
     "start_time": "2018-08-31T03:22:13.026033Z"
    },
    "scrolled": true
   },
   "outputs": [],
   "source": [
    "import math\n",
    "dir(math)"
   ]
  },
  {
   "cell_type": "code",
   "execution_count": null,
   "id": "5ec185f4",
   "metadata": {},
   "outputs": [],
   "source": [
    "import numpy as np\n",
    "help(np)"
   ]
  },
  {
   "cell_type": "code",
   "execution_count": null,
   "id": "a093f61c",
   "metadata": {},
   "outputs": [],
   "source": [
    "def abc():\n",
    "    '''this is my doc string'''\n",
    "    print('abc')"
   ]
  },
  {
   "cell_type": "code",
   "execution_count": null,
   "id": "5ab1f532",
   "metadata": {},
   "outputs": [],
   "source": [
    "help(abc)"
   ]
  },
  {
   "cell_type": "code",
   "execution_count": null,
   "id": "e5779c45",
   "metadata": {
    "ExecuteTime": {
     "end_time": "2018-05-30T03:07:39.053889Z",
     "start_time": "2018-05-30T03:07:39.010973Z"
    },
    "scrolled": true
   },
   "outputs": [],
   "source": [
    "help(math.factorial)"
   ]
  },
  {
   "cell_type": "markdown",
   "id": "eb676b43",
   "metadata": {},
   "source": [
    "## Aliasing or Renaming\n",
    "- We can create an alias when you import a module, by using the as keyword."
   ]
  },
  {
   "cell_type": "code",
   "execution_count": null,
   "id": "b7c5339d",
   "metadata": {
    "ExecuteTime": {
     "end_time": "2018-08-31T04:19:10.028169Z",
     "start_time": "2018-08-31T04:19:10.016203Z"
    }
   },
   "outputs": [],
   "source": [
    "import math as m\n",
    "\n",
    "print(m.pi)\n",
    "print(m.e)\n"
   ]
  },
  {
   "cell_type": "markdown",
   "id": "d23d015c",
   "metadata": {},
   "source": [
    "## from ....... import Statement\n",
    "instead of importing entire library we just import the method we want to use by using from ... import statement"
   ]
  },
  {
   "cell_type": "code",
   "execution_count": null,
   "id": "ae1bd71a",
   "metadata": {
    "ExecuteTime": {
     "end_time": "2018-08-31T04:23:37.034768Z",
     "start_time": "2018-08-31T04:23:37.029774Z"
    }
   },
   "outputs": [],
   "source": [
    "from math import factorial\n",
    "\n",
    "print(factorial(5))\n",
    "print(m.e)"
   ]
  },
  {
   "cell_type": "code",
   "execution_count": null,
   "id": "4c6307b4",
   "metadata": {},
   "outputs": [],
   "source": [
    "from math import factorial as f\n",
    "\n",
    "print(f(5))"
   ]
  },
  {
   "cell_type": "markdown",
   "id": "4e3fa1e4",
   "metadata": {},
   "source": [
    "## import everything"
   ]
  },
  {
   "cell_type": "code",
   "execution_count": null,
   "id": "a313e358",
   "metadata": {
    "ExecuteTime": {
     "end_time": "2018-05-29T17:38:44.091153Z",
     "start_time": "2018-05-29T17:38:44.084039Z"
    }
   },
   "outputs": [],
   "source": [
    "from math import *\n",
    "\n",
    "print(pi)\n",
    "\n",
    "print(factorial(5))"
   ]
  },
  {
   "cell_type": "markdown",
   "id": "e7f785d8",
   "metadata": {},
   "source": [
    "## Some Important Modules in Python"
   ]
  },
  {
   "cell_type": "markdown",
   "id": "5de46089",
   "metadata": {},
   "source": [
    "### math module\n",
    "- This module provides access to the mathematical functions defined by the C standard.\n",
    "\n",
    "- These functions cannot be used with complex numbers"
   ]
  },
  {
   "cell_type": "code",
   "execution_count": null,
   "id": "2fa247b8",
   "metadata": {
    "ExecuteTime": {
     "end_time": "2018-05-30T07:58:24.371424Z",
     "start_time": "2018-05-30T07:58:24.364406Z"
    },
    "scrolled": true
   },
   "outputs": [],
   "source": [
    "import math as m\n",
    "\n",
    "print(m.ceil(123.23))#1224\n",
    "\n",
    "print(m.floor(123.23))#123\n",
    "\n",
    "print(m.factorial(6))\n",
    "\n",
    "print(m.sqrt(4))\n",
    "\n",
    "print(m.gcd(2, 4))\n",
    "\n",
    "print(m.cosh(0))\n",
    "\n",
    "print(m.acosh(1))"
   ]
  },
  {
   "cell_type": "code",
   "execution_count": null,
   "id": "a222f6d9",
   "metadata": {
    "ExecuteTime": {
     "end_time": "2018-05-29T18:10:53.807147Z",
     "start_time": "2018-05-29T18:10:53.797438Z"
    }
   },
   "outputs": [],
   "source": [
    "print(m.tau)\n",
    "\n",
    "print(m.inf)\n",
    "\n",
    "print(m.nan)"
   ]
  },
  {
   "cell_type": "code",
   "execution_count": null,
   "id": "ebb1d9b3",
   "metadata": {},
   "outputs": [],
   "source": []
  },
  {
   "cell_type": "markdown",
   "id": "2d3ece9d",
   "metadata": {},
   "source": [
    "### platform Module\n",
    "- The Platform module is used to retrieve as much possible information about the platform on which the program is being currently executed. Now by platform info, it means information about the device, it’s OS, node, OS version, Python version, etc. \n",
    "- This module plays a crucial role when you want to check whether your program is compatible with the python version installed on a particular system or whether the hardware specifications meet the requirements of your program.\n",
    "- This module already exists in the python library and does not require any installation using pip.\n"
   ]
  },
  {
   "cell_type": "code",
   "execution_count": null,
   "id": "2e293d4a",
   "metadata": {
    "ExecuteTime": {
     "end_time": "2018-08-31T03:41:50.722998Z",
     "start_time": "2018-08-31T03:41:50.718409Z"
    }
   },
   "outputs": [],
   "source": [
    "# Importing the platform  module...\n",
    "import platform\n",
    "print(platform.version())\n",
    "print(platform.system())\n",
    "print(platform.release())"
   ]
  },
  {
   "cell_type": "markdown",
   "id": "92056944",
   "metadata": {},
   "source": [
    "### random module\n",
    "Python Random module is an in-built module of Python which is used to generate random numbers."
   ]
  },
  {
   "cell_type": "code",
   "execution_count": null,
   "id": "c4889a02",
   "metadata": {
    "ExecuteTime": {
     "end_time": "2018-08-31T09:29:42.934404Z",
     "start_time": "2018-08-31T09:29:42.928422Z"
    }
   },
   "outputs": [],
   "source": [
    "from random import *\n",
    "\n",
    "print(random())\n",
    "\n",
    "# 0 and 1 "
   ]
  },
  {
   "cell_type": "code",
   "execution_count": null,
   "id": "ab888a43",
   "metadata": {
    "ExecuteTime": {
     "end_time": "2018-08-31T09:31:37.228931Z",
     "start_time": "2018-08-31T09:31:37.224938Z"
    }
   },
   "outputs": [],
   "source": [
    "print(randint(1, 10))\n",
    "\n",
    "# 1 and 10 "
   ]
  },
  {
   "cell_type": "code",
   "execution_count": null,
   "id": "356bf855",
   "metadata": {
    "ExecuteTime": {
     "end_time": "2018-08-31T05:33:55.785943Z",
     "start_time": "2018-08-31T05:33:55.779958Z"
    }
   },
   "outputs": [],
   "source": [
    "print(uniform(1, 10))\n",
    "\n",
    "# float between 1 and 10 "
   ]
  },
  {
   "cell_type": "code",
   "execution_count": null,
   "id": "96a23b04",
   "metadata": {
    "ExecuteTime": {
     "end_time": "2018-08-31T05:34:21.880670Z",
     "start_time": "2018-08-31T05:34:21.875681Z"
    }
   },
   "outputs": [],
   "source": [
    "lst = ['a', 'b', 'c', 'd', 'e', 'f', 'g', 'h']\n",
    "\n",
    "print(choice(lst))\n",
    "\n",
    "# return a random item from a list or tuple"
   ]
  },
  {
   "cell_type": "code",
   "execution_count": null,
   "id": "87a142e7",
   "metadata": {},
   "outputs": [],
   "source": [
    "# Write a code using random module, copying the funtionality of a dice??\n",
    "\n",
    "lst = [1, 2, 3, 4, 5, 6]\n",
    "\n",
    "print(choice(lst))"
   ]
  },
  {
   "cell_type": "markdown",
   "id": "4a91e510",
   "metadata": {},
   "source": [
    "### Webbrowser module \n",
    "\n",
    "* The webbrowser module in Python provides an interface to display Web-based documents.\n",
    "\n",
    "* Using `open_new_tab` A new browser tab will open with the search term in googles search field.\n"
   ]
  },
  {
   "cell_type": "code",
   "execution_count": null,
   "id": "4adf5d61",
   "metadata": {
    "ExecuteTime": {
     "end_time": "2018-08-31T09:34:10.998329Z",
     "start_time": "2018-08-31T09:34:01.067817Z"
    }
   },
   "outputs": [],
   "source": [
    "\"\"\"\n",
    "webbrowser.open_new(url)\n",
    "    Open url in a new window of the default browser, if possible, otherwise,\n",
    "    open url in the only browser window.\n",
    "\n",
    "webbrowser.open_new_tab(url)\n",
    "    Open url in a new page (“tab”) of the default browser, if possible, \n",
    "    otherwise equivalent to open_new().\n",
    "\"\"\"\n",
    "\n",
    "import webbrowser\n",
    "search = input('Enter Your Google search:')\n",
    "webbrowser.open_new_tab('http://www.google.com/search?q=%s' % search)"
   ]
  },
  {
   "cell_type": "code",
   "execution_count": null,
   "id": "3ae25232",
   "metadata": {},
   "outputs": [],
   "source": [
    "dir(webbrowser)"
   ]
  },
  {
   "cell_type": "markdown",
   "id": "bcbed475",
   "metadata": {},
   "source": [
    "# Main Concepts of Object-Oriented Programming (OOPs) \n",
    "- Class\n",
    "- Objects\n",
    "- Polymorphism\n",
    "- Encapsulation\n",
    "- Inheritance"
   ]
  },
  {
   "cell_type": "markdown",
   "id": "0d092ec0",
   "metadata": {},
   "source": [
    "## Class\n",
    "A class is a collection of objects. A class contains the blueprints or the prototype from which the objects are being created. It is a logical entity that contains some attributes and methods. \n",
    "\n",
    "### Some points on Python class:  \n",
    "\n",
    "- Classes are created by keyword class.\n",
    "- Attributes are the variables that belong to a class.\n",
    "- Attributes are always public and can be accessed using the dot (.) operator. Eg.: Myclass.Myattribute\n",
    "\n",
    "### General syntax-\n",
    "class ClassName:<br>\n",
    "   #Statement-1<br>\n",
    "   .<br>\n",
    "   .<br>\n",
    "   .<br>\n",
    "   #Statement-N"
   ]
  },
  {
   "cell_type": "code",
   "execution_count": null,
   "id": "82a2d93f",
   "metadata": {},
   "outputs": [],
   "source": [
    "# creating an empty class in python\n",
    "class empty:\n",
    "    pass\n"
   ]
  },
  {
   "cell_type": "markdown",
   "id": "2d81f1e1",
   "metadata": {},
   "source": [
    "## Objects\n",
    "The object is an entity that has a state and behavior associated with it. It may be any real-world object like a mouse, keyboard, chair, table, pen, etc. Integers, strings, floating-point numbers, even arrays, and dictionaries, are all objects. More specifically, any single integer or any single string is an object. The number 12 is an object, the string “Hello, world” is an object, a list is an object that can hold other objects, and so on. You’ve been using objects all along and may not even realize it.\n",
    "\n",
    "## An object consists of :\n",
    "\n",
    "- State: It is represented by the attributes of an object. It also reflects the properties of an object.\n",
    "- Behavior: It is represented by the methods of an object. It also reflects the response of an object to other objects.\n",
    "- Identity: It gives a unique name to an object and enables one object to interact with other objects.\n",
    "<br>\n",
    "\n",
    "### To understand the state, behavior, and identity let us take the example of the class dog (explained above). \n",
    "\n",
    "- The identity can be considered as the name of the dog.\n",
    "- State or Attributes can be considered as the breed, age, or color of the dog.\n",
    "- The behavior can be considered as to whether the dog is eating or sleeping."
   ]
  },
  {
   "cell_type": "code",
   "execution_count": null,
   "id": "a38312fb",
   "metadata": {},
   "outputs": [],
   "source": [
    "# for the empty class object can be created\n",
    "obj=empty()"
   ]
  },
  {
   "cell_type": "code",
   "execution_count": null,
   "id": "faa66b1d",
   "metadata": {},
   "outputs": [],
   "source": [
    "import math\n",
    "math.ceil(3.5)"
   ]
  },
  {
   "cell_type": "markdown",
   "id": "f14acbe7",
   "metadata": {},
   "source": [
    "## The self  \n",
    "- Class methods must have an extra first parameter in the method definition. We do not give a value for this parameter when we call the method, Python provides it\n",
    "- If we have a method that takes no arguments, then we still have to have one argument.\n",
    "- When we call a method of this object as myobject.method(arg1, arg2), this is automatically converted by Python into MyClass.method(myobject, arg1, arg2) – this is all the special self is about."
   ]
  },
  {
   "cell_type": "code",
   "execution_count": null,
   "id": "f3c591d6",
   "metadata": {},
   "outputs": [],
   "source": [
    "class SName:\n",
    "    Tname='M'\n",
    "    def __init__(self,name):\n",
    "        self.name=name\n",
    "    def display(self):\n",
    "        print(self.name)"
   ]
  },
  {
   "cell_type": "code",
   "execution_count": null,
   "id": "b906d84e",
   "metadata": {},
   "outputs": [],
   "source": [
    "o=SName('Raghu')\n",
    "o.display()\n",
    "o.Tname"
   ]
  },
  {
   "cell_type": "markdown",
   "id": "e2bc3cfa",
   "metadata": {},
   "source": [
    "## Inheritance\n",
    "Inheritance is the capability of one class to derive or inherit the properties from another class. The class that derives properties is called the derived class or child class and the class from which the properties are being derived is called the base class or parent class. <br>\n",
    "## The benefits of inheritance are:\n",
    "\n",
    "- It represents real-world relationships well.\n",
    "- It provides the reusability of a code. We don’t have to write the same code again and again. Also, it allows us to add more features to a class without modifying it.\n",
    "- It is transitive in nature, which means that if class B inherits from another class A, then all the subclasses of B would automatically inherit from class A."
   ]
  },
  {
   "cell_type": "code",
   "execution_count": null,
   "id": "beb09597",
   "metadata": {},
   "outputs": [],
   "source": [
    "\n",
    "# Python code to demonstrate how parent constructors are called.\n",
    "  \n",
    "# parent class\n",
    "class Person():\n",
    "    def __init__(self, name, idnumber):\n",
    "        self.name = name\n",
    "        self.idnumber = idnumber\n",
    "    def display(self):\n",
    "        print(self.name)\n",
    "        print(self.idnumber)\n",
    "    def details(self):\n",
    "        print(\"My name is {}\".format(self.name))\n",
    "        print(\"IdNumber: {}\".format(self.idnumber))\n",
    "# child class\n",
    "class Employee(Person):\n",
    "    def __init__(self, name, idnumber, salary, post):\n",
    "        self.salary = salary\n",
    "        self.post = post\n",
    "        # invoking the __init__ of the parent class\n",
    "        Person.__init__(self, name, idnumber)\n",
    "          \n",
    "    def details(self):\n",
    "        print(\"My name is {}\".format(self.name))\n",
    "        print(\"IdNumber: {}\".format(self.idnumber))\n",
    "        print(\"Salary: {}\".format(self.salary))\n",
    "        print(\"Post: {}\".format(self.post))\n",
    "# creation of an object variable or an instance\n",
    "a = Employee('Divya', 886012, 200000, \"Intern\")\n",
    "  \n",
    "# calling a function of the class Person using its instance\n",
    "a.display()\n",
    "a.details()"
   ]
  },
  {
   "cell_type": "markdown",
   "id": "7216182e",
   "metadata": {},
   "source": [
    "## Polymorphism\n",
    "Polymorphism simply means having many forms. For example, we need to determine if the given species of birds fly or not, using polymorphism we can do this using a single function."
   ]
  },
  {
   "cell_type": "code",
   "execution_count": null,
   "id": "c2eb0919",
   "metadata": {},
   "outputs": [],
   "source": [
    "class Bird:\n",
    "    def intro(self):\n",
    "        print(\"There are many types of birds.\")\n",
    "  \n",
    "    def flight(self):\n",
    "        print(\"Most of the birds can fly but some cannot.\")\n",
    "  \n",
    "class sparrow(Bird):\n",
    "    \n",
    "    def flight(self):\n",
    "        print(\"Sparrows can fly.\")\n",
    "  \n",
    "class ostrich(sparrow):\n",
    "  \n",
    "    def flight(self):\n",
    "        print(\"Ostriches cannot fly.\")\n",
    "  \n",
    "obj_bird = Bird()\n",
    "obj_spr = sparrow()\n",
    "obj_ost = ostrich()\n",
    "print('bird class')\n",
    "\n",
    "obj_bird.intro()\n",
    "obj_bird.flight()\n",
    "print('*'*40)\n",
    "print('Sparrow class')\n",
    "obj_spr.intro()\n",
    "obj_spr.flight()\n",
    "print('*'*40)\n",
    "print('ostrich class')  \n",
    "obj_ost.intro()\n",
    "obj_ost.flight()"
   ]
  },
  {
   "cell_type": "markdown",
   "id": "64a8c4ba",
   "metadata": {},
   "source": [
    "## Encapsulation\n",
    "Encapsulation is one of the fundamental concepts in object-oriented programming (OOP). It describes the idea of wrapping data and the methods that work on data within one unit. This puts restrictions on accessing variables and methods directly and can prevent the accidental modification of data. To prevent accidental change, an object’s variable can only be changed by an object’s method. Those types of variables are known as private variables.\n",
    "\n",
    "A class is an example of encapsulation as it encapsulates all the data that is member functions, variables, etc."
   ]
  },
  {
   "cell_type": "markdown",
   "id": "59750df9",
   "metadata": {},
   "source": [
    "# A Class in Python has three types of access modifiers:\n",
    "\n",
    "- Public Access Modifier\n",
    "- Protected Access Modifier\n",
    "- Private Access Modifier"
   ]
  },
  {
   "cell_type": "markdown",
   "id": "35d842d0",
   "metadata": {},
   "source": [
    "## Public Access Modifier:\n",
    "The members of a class that are declared public are easily accessible from any part of the program. All data members and member functions of a class are public by default. "
   ]
  },
  {
   "cell_type": "markdown",
   "id": "7d255c2a",
   "metadata": {},
   "source": [
    "## Protected Access Modifier:\n",
    "The members of a class that are declared protected are only accessible to a class derived from it. Data members of a class are declared protected by adding a single underscore ‘_’ symbol before the data member of that class. "
   ]
  },
  {
   "cell_type": "markdown",
   "id": "77b31b3b",
   "metadata": {},
   "source": [
    "## Private Access Modifier:\n",
    "The members of a class that are declared private are accessible within the class only, private access modifier is the most secure access modifier. Data members of a class are declared private by adding a double underscore ‘__’ symbol before the data member of that class. \n",
    "\n"
   ]
  },
  {
   "cell_type": "code",
   "execution_count": null,
   "id": "485c4c3f",
   "metadata": {
    "scrolled": true
   },
   "outputs": [],
   "source": [
    "# program to illustrate access modifiers of a class\n",
    " \n",
    "     \n",
    "#      # public data member\n",
    "#     var1 = None\n",
    " \n",
    "#      # protected data member\n",
    "#     _var2 = None\n",
    "      \n",
    "#      # private data member\n",
    "#     __var3 = None\n",
    "     \n",
    "class PPP:\n",
    "\n",
    "     # constructor\n",
    "    def __init__(self, var1, var2, var3): \n",
    "            self.var1 = var1 # public\n",
    "            self._var2 = var2 # protected\n",
    "            self.__var3 = var3 # private\n",
    "     \n",
    "    # public member function  \n",
    "    def displayPublicMembers(self):\n",
    "  \n",
    "          # accessing public data members\n",
    "          print(\"Public Data Member: \", self.var1)\n",
    "        \n",
    "     # protected member function  \n",
    "    def _displayProtectedMembers(self):\n",
    "  \n",
    "          # accessing protected data members\n",
    "          print(\"Protected Data Member: \", self._var2)\n",
    "      \n",
    "     # private member function  \n",
    "    def __displayPrivateMembers(self):\n",
    "  \n",
    "          # accessing private data members\n",
    "          print(\"Private Data Member: \", self.__var3)\n",
    " \n",
    "     # public member function\n",
    "    def accessPrivateMembers(self):    \n",
    "           \n",
    "          # accessing private member function\n",
    "            self.__displayPrivateMembers()\n",
    "\n",
    "\n",
    "#creating object of the PPP class    \n",
    "obj = PPP(\"TFA\", 4, \"Data science!\")\n",
    "\n",
    " \n",
    "# calling public member functions of the class\n",
    "obj.displayPublicMembers()\n",
    "obj._displayProtectedMembers()\n",
    "#obj.__displayPrivateMembers()\n",
    "# # # with an access private member function can executed\n",
    "obj.accessPrivateMembers()\n",
    " \n",
    "# # # Object can access protected member\n",
    "print('Public ',obj.var1)\n",
    "print(\"Object is accessing protected member:\", obj._var2)\n",
    "print('Private ',obj.__var3)\n",
    " \n",
    "# # # object can not access private member, so it will generate Attribute error\n",
    "# # #print(obj.__var3)"
   ]
  },
  {
   "cell_type": "markdown",
   "id": "bf1ee678",
   "metadata": {},
   "source": [
    "# Generator function in python\n"
   ]
  },
  {
   "cell_type": "markdown",
   "id": "1db33b08",
   "metadata": {},
   "source": [
    "#### A generator-function is defined like a normal function, but whenever it needs to generate a value, it does so with the yield keyword rather than return. If the body of a def contains yield, the function automatically becomes a generator function."
   ]
  },
  {
   "cell_type": "markdown",
   "id": "44c0bdee",
   "metadata": {},
   "source": [
    "### Difference Between Generator Functions and Regular Functions\n",
    "- The main difference between a regular function and generator functions is that the state of generator functions are maintained through the use of the keyword yield and works much like using return, but it has some important differences. \n",
    "- the difference is that yield saves the state of the function. The next time the function is called, execution continues from where it left off, with the same variable values it had before yielding, whereas the return statement terminates the function completely. Another difference is that generator functions don’t even run a function, it only creates and returns a generator object.\n",
    "- Lastly, the code in generator functions only execute when next() is called on the generator object."
   ]
  },
  {
   "cell_type": "code",
   "execution_count": null,
   "id": "b232f477",
   "metadata": {},
   "outputs": [],
   "source": [
    "def simpleGeneratorFun():\n",
    "    yield 1            \n",
    "    yield 2\n",
    "    return 1\n",
    "    yield 3  \n",
    "    yield -1 \n",
    "\n",
    "print(simpleGeneratorFun())\n",
    "for value in simpleGeneratorFun(): \n",
    "    print(value)"
   ]
  },
  {
   "cell_type": "code",
   "execution_count": null,
   "id": "a27dde99",
   "metadata": {},
   "outputs": [],
   "source": [
    "def simpleGeneratorFun(a):\n",
    "    b=1\n",
    "    b=a+b\n",
    "    yield a,b           \n",
    "    yield a+b      \n",
    "    yield a-b \n",
    "    def next():\n",
    "        print(a,b)\n",
    "\n",
    "x=simpleGeneratorFun(5)\n",
    "print(x.__next__())\n",
    "print(x.__next__())\n",
    "b=5\n",
    "for i in simpleGeneratorFun(b):\n",
    "    print(i)"
   ]
  },
  {
   "cell_type": "code",
   "execution_count": null,
   "id": "b3316379",
   "metadata": {},
   "outputs": [],
   "source": [
    "# def fib(limit):\n",
    "      \n",
    "#     # Initialize first two Fibonacci Numbers \n",
    "#     a, b = 0, 1\n",
    "  \n",
    "#     # One by one yield next Fibonacci Number\n",
    "#     while a < limit:\n",
    "#         yield a\n",
    "#         a, b = b, a + b\n",
    "# # Create a generator object\n",
    "# x = fib(5)\n",
    "  \n",
    "# # Iterating over the generator object using next()\n",
    "# print(x.__next__()) # In Python 3, __next__()\n",
    "# print(x.__next__())\n",
    "# print(x.__next__())\n",
    "# print(x.__next__())\n",
    "# print(x.__next__())\n",
    "  \n",
    "# # Iterating over the generator object using for\n",
    "# # in loop.\n",
    "# print(\"\\nUsing for in loop\")\n",
    "# for i in fib(5): \n",
    "#     print(i)"
   ]
  },
  {
   "cell_type": "code",
   "execution_count": null,
   "id": "6b2e6f06",
   "metadata": {},
   "outputs": [],
   "source": []
  },
  {
   "cell_type": "markdown",
   "id": "caeb8a15",
   "metadata": {},
   "source": [
    "# Most Interview asked questions"
   ]
  },
  {
   "cell_type": "markdown",
   "id": "5de4f805",
   "metadata": {},
   "source": [
    "## Coding on Numbers"
   ]
  },
  {
   "cell_type": "markdown",
   "id": "1612ed47",
   "metadata": {},
   "source": [
    "### 1 Write a program to reverse an integer in python"
   ]
  },
  {
   "cell_type": "code",
   "execution_count": null,
   "id": "2188ca69",
   "metadata": {},
   "outputs": [],
   "source": []
  },
  {
   "cell_type": "markdown",
   "id": "2b00a972",
   "metadata": {},
   "source": [
    "### 2 write a program to check whether a number is prime or not"
   ]
  },
  {
   "cell_type": "code",
   "execution_count": null,
   "id": "47098e8d",
   "metadata": {},
   "outputs": [],
   "source": []
  },
  {
   "cell_type": "markdown",
   "id": "5d5c6212",
   "metadata": {},
   "source": [
    "### 3 write aprogram to check whether a number is plaindrome or not using itertaive method"
   ]
  },
  {
   "cell_type": "code",
   "execution_count": null,
   "id": "4bf80517",
   "metadata": {},
   "outputs": [],
   "source": []
  },
  {
   "cell_type": "markdown",
   "id": "fe65122d",
   "metadata": {},
   "source": [
    "### 4 write aprogram to check whether a number is plaindrome or not using itertaive method using recursive method"
   ]
  },
  {
   "cell_type": "code",
   "execution_count": null,
   "id": "7110c3f4",
   "metadata": {},
   "outputs": [],
   "source": []
  },
  {
   "cell_type": "markdown",
   "id": "1557fad2",
   "metadata": {},
   "source": [
    "### 5 write a program to get greatest of 3 numbers"
   ]
  },
  {
   "cell_type": "code",
   "execution_count": null,
   "id": "54a68e2e",
   "metadata": {},
   "outputs": [],
   "source": []
  },
  {
   "cell_type": "markdown",
   "id": "cb31a800",
   "metadata": {},
   "source": [
    "### 6 write a program to check whethe input  is binary"
   ]
  },
  {
   "cell_type": "code",
   "execution_count": null,
   "id": "c3c10da6",
   "metadata": {},
   "outputs": [],
   "source": []
  },
  {
   "cell_type": "markdown",
   "id": "48c84377",
   "metadata": {},
   "source": [
    "### 7 write a program to find sum of digits using recursion"
   ]
  },
  {
   "cell_type": "code",
   "execution_count": null,
   "id": "c605a544",
   "metadata": {},
   "outputs": [],
   "source": []
  },
  {
   "cell_type": "markdown",
   "id": "abfec86b",
   "metadata": {},
   "source": [
    "### 8 write a program to swap 2 numbers using 3rd variable"
   ]
  },
  {
   "cell_type": "code",
   "execution_count": null,
   "id": "5d3fc1d9",
   "metadata": {},
   "outputs": [],
   "source": []
  },
  {
   "cell_type": "markdown",
   "id": "ca0688d7",
   "metadata": {},
   "source": [
    "### 9 write a program to swap 2 numbers without using 3rd variable"
   ]
  },
  {
   "cell_type": "code",
   "execution_count": null,
   "id": "3631397c",
   "metadata": {},
   "outputs": [],
   "source": []
  },
  {
   "cell_type": "markdown",
   "id": "ef1f77c7",
   "metadata": {},
   "source": [
    "### 10 write a program to add two numbers without using arthemetic operator"
   ]
  },
  {
   "cell_type": "code",
   "execution_count": null,
   "id": "4913c205",
   "metadata": {},
   "outputs": [],
   "source": []
  },
  {
   "cell_type": "markdown",
   "id": "132e2ec0",
   "metadata": {},
   "source": [
    "## Coding on Strings"
   ]
  },
  {
   "cell_type": "markdown",
   "id": "c9557a2c",
   "metadata": {},
   "source": [
    "### 1 write a method in python which will remove any given character from a string"
   ]
  },
  {
   "cell_type": "code",
   "execution_count": null,
   "id": "020b4e5e",
   "metadata": {},
   "outputs": [],
   "source": []
  },
  {
   "cell_type": "markdown",
   "id": "123d9901",
   "metadata": {},
   "source": [
    "### 2 write a program in python to count occurence of a given characters in a string"
   ]
  },
  {
   "cell_type": "code",
   "execution_count": null,
   "id": "7a6b7855",
   "metadata": {},
   "outputs": [],
   "source": []
  },
  {
   "cell_type": "markdown",
   "id": "2db8a4ad",
   "metadata": {},
   "source": [
    "### 3 write a program to check whether two strings are anagram"
   ]
  },
  {
   "cell_type": "code",
   "execution_count": null,
   "id": "a6790a45",
   "metadata": {},
   "outputs": [],
   "source": []
  },
  {
   "cell_type": "markdown",
   "id": "f101c006",
   "metadata": {},
   "source": [
    "### 4 write a program to check whether a string is palindrome or not"
   ]
  },
  {
   "cell_type": "code",
   "execution_count": null,
   "id": "b29ef7a7",
   "metadata": {},
   "outputs": [],
   "source": []
  },
  {
   "cell_type": "markdown",
   "id": "f0985cce",
   "metadata": {},
   "source": [
    "## Coding questions on lists"
   ]
  },
  {
   "cell_type": "markdown",
   "id": "ffae0a9c",
   "metadata": {},
   "source": [
    "### 1 write a program to check whether a number is missing from the given list"
   ]
  },
  {
   "cell_type": "code",
   "execution_count": null,
   "id": "db117b09",
   "metadata": {},
   "outputs": [],
   "source": []
  },
  {
   "cell_type": "markdown",
   "id": "ca72497b",
   "metadata": {},
   "source": [
    "### 2 write a program to find duplicate numbers from an list"
   ]
  },
  {
   "cell_type": "code",
   "execution_count": null,
   "id": "e6546750",
   "metadata": {},
   "outputs": [],
   "source": []
  },
  {
   "cell_type": "markdown",
   "id": "d46ed788",
   "metadata": {},
   "source": [
    "### 3 write a program to find two list are equal in size"
   ]
  },
  {
   "cell_type": "code",
   "execution_count": null,
   "id": "e83a2deb",
   "metadata": {},
   "outputs": [],
   "source": []
  },
  {
   "cell_type": "markdown",
   "id": "741c4b9d",
   "metadata": {},
   "source": [
    "### 4 write a program to find largest and smallest element in a list"
   ]
  },
  {
   "cell_type": "code",
   "execution_count": null,
   "id": "bcd9e345",
   "metadata": {},
   "outputs": [],
   "source": []
  },
  {
   "cell_type": "markdown",
   "id": "108ffe58",
   "metadata": {},
   "source": [
    "### 5 write a program to find second highest number in a list"
   ]
  },
  {
   "cell_type": "code",
   "execution_count": null,
   "id": "88649355",
   "metadata": {},
   "outputs": [],
   "source": []
  },
  {
   "cell_type": "markdown",
   "id": "99b8fd4c",
   "metadata": {},
   "source": [
    "### 6 write a program to find top two maximum numbers"
   ]
  },
  {
   "cell_type": "code",
   "execution_count": null,
   "id": "9cf9c4cd",
   "metadata": {},
   "outputs": [],
   "source": []
  },
  {
   "cell_type": "markdown",
   "id": "d38de5f4",
   "metadata": {},
   "source": [
    "### 7 write a program to remove duplicate elements"
   ]
  },
  {
   "cell_type": "code",
   "execution_count": null,
   "id": "c6cabde7",
   "metadata": {},
   "outputs": [],
   "source": []
  }
 ],
 "metadata": {
  "kernelspec": {
   "display_name": "Python 3 (ipykernel)",
   "language": "python",
   "name": "python3"
  },
  "language_info": {
   "codemirror_mode": {
    "name": "ipython",
    "version": 3
   },
   "file_extension": ".py",
   "mimetype": "text/x-python",
   "name": "python",
   "nbconvert_exporter": "python",
   "pygments_lexer": "ipython3",
   "version": "3.9.12"
  }
 },
 "nbformat": 4,
 "nbformat_minor": 5
}
